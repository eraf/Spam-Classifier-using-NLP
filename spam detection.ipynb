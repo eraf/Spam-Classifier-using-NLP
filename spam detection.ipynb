{
 "cells": [
  {
   "cell_type": "code",
   "execution_count": 1,
   "id": "8605f9c2",
   "metadata": {},
   "outputs": [],
   "source": [
    "import pandas as pd\n",
    "import nltk\n",
    "import re"
   ]
  },
  {
   "cell_type": "code",
   "execution_count": 3,
   "id": "4b830f96",
   "metadata": {},
   "outputs": [
    {
     "data": {
      "text/html": [
       "<div>\n",
       "<style scoped>\n",
       "    .dataframe tbody tr th:only-of-type {\n",
       "        vertical-align: middle;\n",
       "    }\n",
       "\n",
       "    .dataframe tbody tr th {\n",
       "        vertical-align: top;\n",
       "    }\n",
       "\n",
       "    .dataframe thead th {\n",
       "        text-align: right;\n",
       "    }\n",
       "</style>\n",
       "<table border=\"1\" class=\"dataframe\">\n",
       "  <thead>\n",
       "    <tr style=\"text-align: right;\">\n",
       "      <th></th>\n",
       "      <th>label</th>\n",
       "      <th>text</th>\n",
       "    </tr>\n",
       "  </thead>\n",
       "  <tbody>\n",
       "    <tr>\n",
       "      <th>0</th>\n",
       "      <td>ham</td>\n",
       "      <td>Go until jurong point, crazy.. Available only ...</td>\n",
       "    </tr>\n",
       "    <tr>\n",
       "      <th>1</th>\n",
       "      <td>ham</td>\n",
       "      <td>Ok lar... Joking wif u oni...</td>\n",
       "    </tr>\n",
       "    <tr>\n",
       "      <th>2</th>\n",
       "      <td>spam</td>\n",
       "      <td>Free entry in 2 a wkly comp to win FA Cup fina...</td>\n",
       "    </tr>\n",
       "    <tr>\n",
       "      <th>3</th>\n",
       "      <td>ham</td>\n",
       "      <td>U dun say so early hor... U c already then say...</td>\n",
       "    </tr>\n",
       "    <tr>\n",
       "      <th>4</th>\n",
       "      <td>ham</td>\n",
       "      <td>Nah I don't think he goes to usf, he lives aro...</td>\n",
       "    </tr>\n",
       "  </tbody>\n",
       "</table>\n",
       "</div>"
      ],
      "text/plain": [
       "  label                                               text\n",
       "0   ham  Go until jurong point, crazy.. Available only ...\n",
       "1   ham                      Ok lar... Joking wif u oni...\n",
       "2  spam  Free entry in 2 a wkly comp to win FA Cup fina...\n",
       "3   ham  U dun say so early hor... U c already then say...\n",
       "4   ham  Nah I don't think he goes to usf, he lives aro..."
      ]
     },
     "execution_count": 3,
     "metadata": {},
     "output_type": "execute_result"
    }
   ],
   "source": [
    "data = pd.read_csv(\"SMSSpamCollection\", sep = \"\\t\", names = [\"label\", \"text\"])\n",
    "data.head()"
   ]
  },
  {
   "cell_type": "code",
   "execution_count": 5,
   "id": "82de8291",
   "metadata": {},
   "outputs": [],
   "source": [
    "from nltk.corpus import stopwords\n",
    "from nltk.stem import PorterStemmer\n",
    "from nltk.stem import WordNetLemmatizer"
   ]
  },
  {
   "cell_type": "code",
   "execution_count": 18,
   "id": "e12e9e9d",
   "metadata": {},
   "outputs": [],
   "source": [
    "stemmer = PorterStemmer()\n",
    "lemmatizer = WordNetLemmatizer()"
   ]
  },
  {
   "cell_type": "code",
   "execution_count": 21,
   "id": "2f20caba",
   "metadata": {},
   "outputs": [],
   "source": [
    "#stemming and lemmatization\n",
    "corpus_stemmed = []\n",
    "corpus_lemmatized = []\n",
    "for i in range(len(data)):\n",
    "    temp = data.iloc[i, 1]\n",
    "    temp = re.sub(\"[^a-zA-Z]\", \" \", temp)\n",
    "    temp = temp.lower().split()\n",
    "    stem = [stemmer.stem(word) for word in temp if word not in stopwords.words(\"english\")]\n",
    "    lemma = [lemmatizer.lemmatize(word) for word in temp if word not in stopwords.words(\"english\")]\n",
    "    stem = \" \".join(stem)\n",
    "    lemma = \" \".join(lemma)\n",
    "    corpus_stemmed.append(stem)\n",
    "    corpus_lemmatized.append(lemma)"
   ]
  },
  {
   "cell_type": "code",
   "execution_count": 31,
   "id": "2b89a54d",
   "metadata": {},
   "outputs": [],
   "source": [
    "from sklearn.feature_extraction.text import CountVectorizer\n",
    "from sklearn.feature_extraction.text import TfidfVectorizer\n",
    "from sklearn.model_selection import train_test_split\n",
    "from sklearn.naive_bayes import MultinomialNB\n",
    "from sklearn.metrics import confusion_matrix\n",
    "from sklearn.metrics import accuracy_score"
   ]
  },
  {
   "cell_type": "code",
   "execution_count": 55,
   "id": "2f5a3933",
   "metadata": {},
   "outputs": [],
   "source": [
    "cv = CountVectorizer(max_features = 5000)\n",
    "tfidf = TfidfVectorizer()"
   ]
  },
  {
   "cell_type": "code",
   "execution_count": 33,
   "id": "9c413819",
   "metadata": {},
   "outputs": [],
   "source": [
    "X_stem_cv = cv.fit_transform(corpus_stemmed).toarray()\n",
    "X_stem_tfidf = tfidf.fit_transform(corpus_stemmed).toarray()\n",
    "X_lemma_cv = cv.fit_transform(corpus_lemmatized).toarray()\n",
    "X_lemma_tfidf = tfidf.fit_transform(corpus_lemmatized).toarray()"
   ]
  },
  {
   "cell_type": "code",
   "execution_count": 36,
   "id": "91ac20d4",
   "metadata": {},
   "outputs": [],
   "source": [
    "Y = pd.get_dummies(data.iloc[:,0]).iloc[:,1]"
   ]
  },
  {
   "cell_type": "code",
   "execution_count": 62,
   "id": "372a44fb",
   "metadata": {},
   "outputs": [],
   "source": [
    "def f(X, confusion = 0):\n",
    "    X_train, X_test, Y_train, Y_test = train_test_split(X, Y, test_size = .20, random_state = 1)\n",
    "    model = MultinomialNB().fit(X_train, Y_train)\n",
    "    pred = model.predict(X_test)\n",
    "    if confusion == 1:\n",
    "        return(confusion_matrix(Y_test, pred))\n",
    "    return accuracy_score(Y_test, pred)"
   ]
  },
  {
   "cell_type": "code",
   "execution_count": 63,
   "id": "a6d4e4b1",
   "metadata": {},
   "outputs": [
    {
     "data": {
      "text/plain": [
       "array([[952,  16],\n",
       "       [  4, 143]], dtype=int64)"
      ]
     },
     "execution_count": 63,
     "metadata": {},
     "output_type": "execute_result"
    }
   ],
   "source": [
    "f(X_stem_cv, 1)"
   ]
  },
  {
   "cell_type": "code",
   "execution_count": 64,
   "id": "3571900c",
   "metadata": {},
   "outputs": [
    {
     "data": {
      "text/plain": [
       "array([[967,   1],\n",
       "       [ 28, 119]], dtype=int64)"
      ]
     },
     "execution_count": 64,
     "metadata": {},
     "output_type": "execute_result"
    }
   ],
   "source": [
    "f(X_stem_tfidf, 1)"
   ]
  },
  {
   "cell_type": "code",
   "execution_count": 65,
   "id": "92033e62",
   "metadata": {},
   "outputs": [
    {
     "data": {
      "text/plain": [
       "array([[949,  19],\n",
       "       [  6, 141]], dtype=int64)"
      ]
     },
     "execution_count": 65,
     "metadata": {},
     "output_type": "execute_result"
    }
   ],
   "source": [
    "f(X_lemma_cv, 1)"
   ]
  },
  {
   "cell_type": "code",
   "execution_count": 66,
   "id": "593a8c84",
   "metadata": {},
   "outputs": [
    {
     "data": {
      "text/plain": [
       "array([[967,   1],\n",
       "       [ 27, 120]], dtype=int64)"
      ]
     },
     "execution_count": 66,
     "metadata": {},
     "output_type": "execute_result"
    }
   ],
   "source": [
    "f(X_lemma_tfidf, 1)"
   ]
  },
  {
   "cell_type": "code",
   "execution_count": 73,
   "id": "cdd2d571",
   "metadata": {},
   "outputs": [
    {
     "name": "stdout",
     "output_type": "stream",
     "text": [
      "1\n",
      "1\n"
     ]
    }
   ],
   "source": [
    "#tfidf may be better as we don't want to risk marking important messages as spam\n",
    "print(f(X_stem_tfidf, 1)[0, 1]) #it is better to use stem as it has the same amount of error but takes less time\n",
    "print(f(X_lemma_tfidf, 1)[0, 1])"
   ]
  },
  {
   "cell_type": "code",
   "execution_count": 76,
   "id": "1a7bd475",
   "metadata": {},
   "outputs": [
    {
     "name": "stdout",
     "output_type": "stream",
     "text": [
      "0.9739910313901345\n",
      "0.9748878923766816\n"
     ]
    }
   ],
   "source": [
    "print(f(X_stem_tfidf))\n",
    "print(f(X_lemma_tfidf)) #the accuracy is similar too so we should go with stemming"
   ]
  }
 ],
 "metadata": {
  "kernelspec": {
   "display_name": "Python 3 (ipykernel)",
   "language": "python",
   "name": "python3"
  },
  "language_info": {
   "codemirror_mode": {
    "name": "ipython",
    "version": 3
   },
   "file_extension": ".py",
   "mimetype": "text/x-python",
   "name": "python",
   "nbconvert_exporter": "python",
   "pygments_lexer": "ipython3",
   "version": "3.10.5"
  }
 },
 "nbformat": 4,
 "nbformat_minor": 5
}
